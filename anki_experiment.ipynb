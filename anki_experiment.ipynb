{
 "cells": [
  {
   "cell_type": "code",
   "execution_count": 1,
   "metadata": {
    "collapsed": true
   },
   "outputs": [
    {
     "name": "stdout",
     "output_type": "stream",
     "text": [
      "Final goal: 11021\nAs of 2017-05-12: \n2017-05-16 5001.57142857\n2017-06-19 8073.22857136\n2017-07-22 11054.542857\n"
     ]
    },
    {
     "data": {
      "image/png": "[encoded data removed]",
      "text/plain": [
       "<matplotlib.figure.Figure at 0x7f8e20815320>"
      ]
     },
     "metadata": {},
     "output_type": "display_data"
    }
   ],
   "source": [
    "import math\n",
    "from datetime import datetime, date\n",
    "\n",
    "import matplotlib.dates as mdates\n",
    "import matplotlib.pyplot as plt\n",
    "import numpy as np\n",
    "\n",
    "\n",
    "def get_num_date_for_value(pol, dest):\n",
    "    return int(math.ceil(max(np.roots(pol - dest))))\n",
    "\n",
    "\n",
    "def print_dest(pol, dest):\n",
    "    num_dest_date = get_num_date_for_value(pol, dest)\n",
    "    dest_date = mdates.num2date(num_dest_date).date()\n",
    "    print(dest_date, pol(num_dest_date))\n",
    "    \n",
    "    plt.axvline(x=dest_date)\n",
    "\n",
    "\n",
    "def parse_date(d):\n",
    "    return datetime.strptime(d, '%Y/%m/%d')\n",
    "\n",
    "\n",
    "def main():\n",
    "    progress_journal = [\n",
    "        ['2017/5/6', 4075],\n",
    "        ['2017/5/7', 4199],\n",
    "        ['2017/5/8', 4294],\n",
    "        ['2017/5/9', 4383],\n",
    "        ['2017/5/10', 4460],\n",
    "        ['2017/5/11', 4533],\n",
    "    ]\n",
    "\n",
    "    dates = [parse_date(row[0]) for row in progress_journal]\n",
    "    x = mdates.date2num(dates)\n",
    "    y = [row[1] for row in progress_journal]\n",
    "\n",
    "    fn = np.poly1d(np.polyfit(x, y, 1))\n",
    "    \n",
    "    plt.plot(mdates.num2date(x), y, '.')\n",
    "    end_date = date(2017, 7, 31)\n",
    "    x2 = np.linspace(x.min(), mdates.date2num(end_date), 100)\n",
    "\n",
    "    plt.plot(mdates.num2date(x2), fn(x2), label='Now')\n",
    "    plt.ylabel('Projection')\n",
    "\n",
    "    print(\"Final goal: 11021\")\n",
    "    print(\"As of \" + str(datetime.now().date()) + \": \")\n",
    "    print_dest(fn, 5000)\n",
    "    print_dest(fn, 8000)\n",
    "    print_dest(fn, 11021)\n",
    "\n",
    "    plt.show()\n",
    "\n",
    "\n",
    "# Final goal: 11021\n",
    "# As of 2017-05-12:\n",
    "# 2017-05-16 5001.57142857\n",
    "# 2017-06-19 8073.22857136\n",
    "# 2017-07-22 11054.542857\n",
    "\n",
    "if __name__ == \"__main__\":\n",
    "    main()"
   ]
  },
  {
   "cell_type": "code",
   "execution_count": null,
   "metadata": {
    "collapsed": true
   },
   "outputs": [],
   "source": [
    ""
   ]
  }
 ],
 "metadata": {
  "kernelspec": {
   "display_name": "Python 3",
   "name": "python3",
   "language": "python"
  },
  "language_info": {
   "mimetype": "text/x-python",
   "nbconvert_exporter": "python",
   "version": "3.5.1",
   "name": "python",
   "file_extension": ".py",
   "pygments_lexer": "ipython3",
   "codemirror_mode": {
    "version": 3.0,
    "name": "ipython"
   }
  }
 },
 "nbformat": 4,
 "nbformat_minor": 0
}